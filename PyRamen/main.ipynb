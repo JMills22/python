{
 "cells": [
  {
   "cell_type": "code",
   "execution_count": null,
   "id": "dece42d5-c107-49b6-a53e-03867e4d7764",
   "metadata": {},
   "outputs": [],
   "source": [
    "import sys\n"
   ]
  }
 ],
 "metadata": {
  "kernelspec": {
   "display_name": "Python 3 (ipykernel)",
   "language": "python",
   "name": "python3"
  },
  "language_info": {
   "codemirror_mode": {
    "name": "ipython",
    "version": 3
   },
   "file_extension": ".py",
   "mimetype": "text/x-python",
   "name": "python",
   "nbconvert_exporter": "python",
   "pygments_lexer": "ipython3",
   "version": "3.8.8"
  }
 },
 "nbformat": 4,
 "nbformat_minor": 5
}
